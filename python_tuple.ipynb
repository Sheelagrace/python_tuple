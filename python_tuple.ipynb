{
 "cells": [
  {
   "cell_type": "code",
   "execution_count": 1,
   "id": "681f796e",
   "metadata": {},
   "outputs": [
    {
     "name": "stdout",
     "output_type": "stream",
     "text": [
      "(1, 2, 3, 'R', 3.4, 5.6, 'Python')\n",
      "('Piyush', 'Sheela', 'Pooja', 'Arun')\n",
      "<class 'tuple'>\n",
      "<class 'tuple'>\n"
     ]
    }
   ],
   "source": [
    "ex1=(1,2,3,\"R\",3.4,5.6,\"Python\")\n",
    "ex2=(\"Piyush\",\"Sheela\",\"Pooja\",\"Arun\")\n",
    "print(ex1)\n",
    "print(ex2)\n",
    "print(type(ex1))\n",
    "print(type(ex2))"
   ]
  },
  {
   "cell_type": "code",
   "execution_count": 2,
   "id": "40c16dc7",
   "metadata": {},
   "outputs": [
    {
     "name": "stdout",
     "output_type": "stream",
     "text": [
      "(1, 2, 3, 'R', 3.4, 5.6, 'Python')\n",
      "('Piyush', 'Sheela', 'Pooja', 'Arun')\n",
      "<class 'tuple'>\n",
      "<class 'tuple'>\n"
     ]
    }
   ],
   "source": [
    "ex1=1,2,3,\"R\",3.4,5.6,\"Python\"\n",
    "ex2=\"Piyush\",\"Sheela\",\"Pooja\",\"Arun\"\n",
    "print(ex1)\n",
    "print(ex2)\n",
    "print(type(ex1))\n",
    "print(type(ex2))"
   ]
  },
  {
   "cell_type": "markdown",
   "id": "c39e8799",
   "metadata": {},
   "source": [
    "#### tuple should be in paranthesis\n",
    "#### 0r it can be used without paranthesis also"
   ]
  },
  {
   "cell_type": "code",
   "execution_count": 3,
   "id": "bdf0c433",
   "metadata": {},
   "outputs": [
    {
     "data": {
      "text/plain": [
       "False"
      ]
     },
     "execution_count": 3,
     "metadata": {},
     "output_type": "execute_result"
    }
   ],
   "source": [
    "ex1==ex2"
   ]
  },
  {
   "cell_type": "code",
   "execution_count": 4,
   "id": "6fc6a3f5",
   "metadata": {},
   "outputs": [
    {
     "data": {
      "text/plain": [
       "(2, 3, 'R', 3.4)"
      ]
     },
     "execution_count": 4,
     "metadata": {},
     "output_type": "execute_result"
    }
   ],
   "source": [
    "ex1[1:5]"
   ]
  },
  {
   "cell_type": "code",
   "execution_count": 5,
   "id": "4fa7a7fc",
   "metadata": {},
   "outputs": [
    {
     "data": {
      "text/plain": [
       "'Pooja'"
      ]
     },
     "execution_count": 5,
     "metadata": {},
     "output_type": "execute_result"
    }
   ],
   "source": [
    "ex2[-2]"
   ]
  },
  {
   "cell_type": "markdown",
   "id": "58466fc3",
   "metadata": {},
   "source": [
    "### Tuple is written with paranthesis or without ant brackets\n",
    "### we can retrive the elements using index\n",
    "### it is Heterogeneous\n"
   ]
  },
  {
   "cell_type": "code",
   "execution_count": 7,
   "id": "6574aaf2",
   "metadata": {},
   "outputs": [
    {
     "ename": "TypeError",
     "evalue": "'tuple' object does not support item assignment",
     "output_type": "error",
     "traceback": [
      "\u001b[1;31m---------------------------------------------------------------------------\u001b[0m",
      "\u001b[1;31mTypeError\u001b[0m                                 Traceback (most recent call last)",
      "Cell \u001b[1;32mIn[7], line 1\u001b[0m\n\u001b[1;32m----> 1\u001b[0m ex2[\u001b[38;5;241m-\u001b[39m\u001b[38;5;241m2\u001b[39m]\u001b[38;5;241m=\u001b[39m\u001b[38;5;124m'\u001b[39m\u001b[38;5;124mVaishnavi\u001b[39m\u001b[38;5;124m'\u001b[39m\n",
      "\u001b[1;31mTypeError\u001b[0m: 'tuple' object does not support item assignment"
     ]
    }
   ],
   "source": [
    "ex2[-2]='Vaishnavi'"
   ]
  },
  {
   "cell_type": "markdown",
   "id": "344cedd9",
   "metadata": {},
   "source": [
    "### tuple is inmutable (cannot be replaced or changed once created)"
   ]
  },
  {
   "cell_type": "code",
   "execution_count": 8,
   "id": "d3d37dfb",
   "metadata": {},
   "outputs": [
    {
     "data": {
      "text/plain": [
       "('Piyush', 'Sheela', 'Pooja', 'Arun', 'Piyush', 'Sheela', 'Pooja', 'Arun')"
      ]
     },
     "execution_count": 8,
     "metadata": {},
     "output_type": "execute_result"
    }
   ],
   "source": [
    "tuple3=ex2*2\n",
    "tuple3"
   ]
  },
  {
   "cell_type": "markdown",
   "id": "70f9aabf",
   "metadata": {},
   "source": [
    "#### converting from list to tuple and replaced with vaishnavi"
   ]
  },
  {
   "cell_type": "code",
   "execution_count": 9,
   "id": "a4ea52bb",
   "metadata": {},
   "outputs": [
    {
     "data": {
      "text/plain": [
       "('Piyush', 'Sheela', 'Pooja', 'Arun')"
      ]
     },
     "execution_count": 9,
     "metadata": {},
     "output_type": "execute_result"
    }
   ],
   "source": [
    "ex2"
   ]
  },
  {
   "cell_type": "code",
   "execution_count": 10,
   "id": "29c6f327",
   "metadata": {},
   "outputs": [
    {
     "data": {
      "text/plain": [
       "tuple"
      ]
     },
     "execution_count": 10,
     "metadata": {},
     "output_type": "execute_result"
    }
   ],
   "source": [
    "type(ex2)"
   ]
  },
  {
   "cell_type": "code",
   "execution_count": 11,
   "id": "f120486f",
   "metadata": {},
   "outputs": [],
   "source": [
    "ex3=list(ex2)"
   ]
  },
  {
   "cell_type": "code",
   "execution_count": 12,
   "id": "152d413c",
   "metadata": {},
   "outputs": [
    {
     "data": {
      "text/plain": [
       "list"
      ]
     },
     "execution_count": 12,
     "metadata": {},
     "output_type": "execute_result"
    }
   ],
   "source": [
    "type(ex3)"
   ]
  },
  {
   "cell_type": "code",
   "execution_count": 14,
   "id": "84527477",
   "metadata": {},
   "outputs": [
    {
     "data": {
      "text/plain": [
       "['Piyush', 'Sheela', 'vaishnavi', 'Arun']"
      ]
     },
     "execution_count": 14,
     "metadata": {},
     "output_type": "execute_result"
    }
   ],
   "source": [
    "ex3[2]=\"vaishnavi\"\n",
    "ex3"
   ]
  },
  {
   "cell_type": "code",
   "execution_count": null,
   "id": "e2e2d057",
   "metadata": {},
   "outputs": [],
   "source": []
  }
 ],
 "metadata": {
  "kernelspec": {
   "display_name": "Python 3 (ipykernel)",
   "language": "python",
   "name": "python3"
  },
  "language_info": {
   "codemirror_mode": {
    "name": "ipython",
    "version": 3
   },
   "file_extension": ".py",
   "mimetype": "text/x-python",
   "name": "python",
   "nbconvert_exporter": "python",
   "pygments_lexer": "ipython3",
   "version": "3.11.5"
  }
 },
 "nbformat": 4,
 "nbformat_minor": 5
}
